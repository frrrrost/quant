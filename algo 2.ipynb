{
 "cells": [
  {
   "cell_type": "code",
   "execution_count": 1,
   "metadata": {},
   "outputs": [
    {
     "name": "stdout",
     "output_type": "stream",
     "text": [
      "Requirement already satisfied: yfinance in c:\\anaconda3\\lib\\site-packages (0.1.74)\n",
      "Requirement already satisfied: requests>=2.26 in c:\\anaconda3\\lib\\site-packages (from yfinance) (2.28.1)\n",
      "Requirement already satisfied: numpy>=1.15 in c:\\anaconda3\\lib\\site-packages (from yfinance) (1.15.4)\n",
      "Requirement already satisfied: pandas>=0.24.0 in c:\\anaconda3\\lib\\site-packages (from yfinance) (1.1.3)\n",
      "Requirement already satisfied: lxml>=4.5.1 in c:\\anaconda3\\lib\\site-packages (from yfinance) (4.9.1)\n",
      "Requirement already satisfied: multitasking>=0.0.7 in c:\\anaconda3\\lib\\site-packages (from yfinance) (0.0.11)\n",
      "Requirement already satisfied: pytz>=2017.2 in c:\\anaconda3\\lib\\site-packages (from pandas>=0.24.0->yfinance) (2018.5)\n",
      "Requirement already satisfied: python-dateutil>=2.7.3 in c:\\anaconda3\\lib\\site-packages (from pandas>=0.24.0->yfinance) (2.7.3)\n",
      "Requirement already satisfied: idna<4,>=2.5 in c:\\anaconda3\\lib\\site-packages (from requests>=2.26->yfinance) (2.7)\n",
      "Requirement already satisfied: certifi>=2017.4.17 in c:\\anaconda3\\lib\\site-packages (from requests>=2.26->yfinance) (2022.6.15.1)\n",
      "Requirement already satisfied: urllib3<1.27,>=1.21.1 in c:\\anaconda3\\lib\\site-packages (from requests>=2.26->yfinance) (1.23)\n",
      "Requirement already satisfied: charset-normalizer<3,>=2 in c:\\anaconda3\\lib\\site-packages (from requests>=2.26->yfinance) (2.1.1)\n",
      "Requirement already satisfied: six>=1.5 in c:\\anaconda3\\lib\\site-packages (from python-dateutil>=2.7.3->pandas>=0.24.0->yfinance) (1.11.0)\n"
     ]
    },
    {
     "name": "stderr",
     "output_type": "stream",
     "text": [
      "\n",
      "[notice] A new release of pip available: 22.2.2 -> 22.3\n",
      "[notice] To update, run: python.exe -m pip install --upgrade pip\n"
     ]
    }
   ],
   "source": [
    "!pip install yfinance"
   ]
  },
  {
   "cell_type": "code",
   "execution_count": 2,
   "metadata": {},
   "outputs": [
    {
     "name": "stderr",
     "output_type": "stream",
     "text": [
      "In C:\\anaconda3\\lib\\site-packages\\matplotlib\\mpl-data\\stylelib\\_classic_test.mplstyle: \n",
      "The text.latex.unicode rcparam was deprecated in Matplotlib 3.0 and will be removed in 3.2.\n",
      "In C:\\anaconda3\\lib\\site-packages\\matplotlib\\mpl-data\\stylelib\\_classic_test.mplstyle: \n",
      "The savefig.frameon rcparam was deprecated in Matplotlib 3.1 and will be removed in 3.3.\n",
      "In C:\\anaconda3\\lib\\site-packages\\matplotlib\\mpl-data\\stylelib\\_classic_test.mplstyle: \n",
      "The pgf.debug rcparam was deprecated in Matplotlib 3.0 and will be removed in 3.2.\n",
      "In C:\\anaconda3\\lib\\site-packages\\matplotlib\\mpl-data\\stylelib\\_classic_test.mplstyle: \n",
      "The verbose.level rcparam was deprecated in Matplotlib 3.1 and will be removed in 3.3.\n",
      "In C:\\anaconda3\\lib\\site-packages\\matplotlib\\mpl-data\\stylelib\\_classic_test.mplstyle: \n",
      "The verbose.fileo rcparam was deprecated in Matplotlib 3.1 and will be removed in 3.3.\n"
     ]
    }
   ],
   "source": [
    "import yfinance as yf \n",
    "import pandas as pd \n",
    "import numpy as np\n",
    "import matplotlib.pyplot as plt "
   ]
  },
  {
   "cell_type": "code",
   "execution_count": null,
   "metadata": {},
   "outputs": [],
   "source": [
    "ticker = []\n",
    "s = int(input('Enter number of stocks you want to analyse: '))\n",
    "for i in range(0, s):\n",
    "    st = str(input(\"Enter stocks' ticker: \"))\n",
    "    st= st.upper()\n",
    "    ticker.append(st)\n",
    "stocks = yf.download(ticker, start = '2010-01-01', end = '2022-01-01')"
   ]
  },
  {
   "cell_type": "code",
   "execution_count": null,
   "metadata": {},
   "outputs": [],
   "source": [
    "close = stocks.loc[:, 'Close'].copy()\n",
    "normclose= close.div(close.iloc[0]).mul(100)\n",
    "normclose.plot(figsize = (16,7), fontsize=14 )\n",
    "plt.legend(fontsize = 11)\n",
    "plt.show()"
   ]
  },
  {
   "cell_type": "code",
   "execution_count": null,
   "metadata": {},
   "outputs": [],
   "source": [
    "ret = close.pct_change().dropna() #return\n",
    "ret.head()"
   ]
  },
  {
   "cell_type": "code",
   "execution_count": null,
   "metadata": {},
   "outputs": [],
   "source": [
    "summary = ret.describe().T.loc[:, ['mean', 'std']]\n",
    "summary "
   ]
  },
  {
   "cell_type": "code",
   "execution_count": null,
   "metadata": {},
   "outputs": [],
   "source": [
    "summary['mean']= summary['mean']*252\n",
    "summary['std'] = summary['std']*np.sqrt(252)\n",
    "summary"
   ]
  },
  {
   "cell_type": "code",
   "execution_count": null,
   "metadata": {},
   "outputs": [],
   "source": [
    "summary.plot.scatter(x = 'std', y='mean', figsize=(23,11), s = 40, fontsize = 19)\n",
    "for i in summary.index:\n",
    "    plt.annotate(i, xy = (summary.loc[i, 'std']+ 0.003, summary.loc[i, 'mean']+ 0.002), size = 17)\n",
    "plt.xlabel('Annual risk(std)', fontsize = 19) \n",
    "plt.ylabel('Annual return', fontsize = 19)\n",
    "plt.title('Risk/return', fontsize = 31)"
   ]
  },
  {
   "cell_type": "markdown",
   "metadata": {},
   "source": [
    "## Simple returns and log returns"
   ]
  },
  {
   "cell_type": "code",
   "execution_count": null,
   "metadata": {},
   "outputs": [],
   "source": [
    "df = pd.DataFrame(index = [2016, 2017, 2018], data = [100, 50, 95], columns = ['Price'])\n",
    "df"
   ]
  },
  {
   "cell_type": "code",
   "execution_count": null,
   "metadata": {},
   "outputs": [],
   "source": [
    "simplereturns = df.pct_change().dropna()\n",
    "simplereturns"
   ]
  },
  {
   "cell_type": "code",
   "execution_count": null,
   "metadata": {},
   "outputs": [],
   "source": [
    "simplereturns.mean()"
   ]
  },
  {
   "cell_type": "code",
   "execution_count": null,
   "metadata": {},
   "outputs": [],
   "source": [
    "100*1.2*1.2 #mean returns are misleading "
   ]
  },
  {
   "cell_type": "code",
   "execution_count": null,
   "metadata": {},
   "outputs": [],
   "source": [
    "logreturns=np.log(df/df.shift(1)).dropna()\n",
    "logreturns.mean()\n",
    "100*np.exp(logreturns.mean()*2)"
   ]
  },
  {
   "cell_type": "code",
   "execution_count": null,
   "metadata": {},
   "outputs": [],
   "source": [
    "SPY = yf.download('SPY')\n",
    "spy = SPY.Close.to_frame()\n",
    "spy"
   ]
  },
  {
   "cell_type": "code",
   "execution_count": null,
   "metadata": {},
   "outputs": [],
   "source": [
    "spy.plot(figsize =(11, 5), fontsize = 11)\n",
    "plt.legend(loc= 'best', fontsize =11)\n",
    "plt.show()"
   ]
  },
  {
   "cell_type": "code",
   "execution_count": null,
   "metadata": {},
   "outputs": [],
   "source": [
    "spy_roll = spy.rolling(window = 10) #it calculates the past experience, provide rolling window calculations \n",
    "# rolling window calculations involve taking subsets of data, where subsets are of the same or varying length and performaing math calculations on them \n",
    "spy_roll = spy_roll.mean()\n",
    "spy_roll "
   ]
  },
  {
   "cell_type": "code",
   "execution_count": null,
   "metadata": {},
   "outputs": [],
   "source": [
    "spy.rolling(window = 10).median()"
   ]
  },
  {
   "cell_type": "code",
   "execution_count": null,
   "metadata": {},
   "outputs": [],
   "source": [
    "spy.rolling(window = 10).max()"
   ]
  },
  {
   "cell_type": "code",
   "execution_count": null,
   "metadata": {},
   "outputs": [],
   "source": [
    "spy.rolling(window = 10, min_periods = 5).max().head(15)"
   ]
  },
  {
   "cell_type": "code",
   "execution_count": null,
   "metadata": {},
   "outputs": [],
   "source": [
    "spy['SMA50'] = spy.rolling(window= 50, min_periods=50).mean()\n",
    "spy['SMA200'] = spy.Close.rolling(window= 200, min_periods=200).mean()\n",
    "spy['EMA100'] = spy.Close.ewm(span=100, min_periods = 100).mean()\n",
    "#ewm - exponentially weighted calculations "
   ]
  },
  {
   "cell_type": "code",
   "execution_count": null,
   "metadata": {},
   "outputs": [],
   "source": [
    "spy.plot(figsize=(17,11), fontsize = 13)\n",
    "plt.legend(loc='best', fontsize = 13)\n",
    "plt.show()"
   ]
  },
  {
   "cell_type": "code",
   "execution_count": null,
   "metadata": {
    "scrolled": true
   },
   "outputs": [],
   "source": [
    "spy['Day'] = spy.index.day_name()\n",
    "spy['Quarter'] = spy.index.quarter\n",
    "SPY = yf.download('SPY')"
   ]
  },
  {
   "cell_type": "code",
   "execution_count": null,
   "metadata": {},
   "outputs": [],
   "source": [
    "all_days = pd.date_range(start = '2010-12-31', end = '2020-01-01', freq = 'D')\n",
    "all_days"
   ]
  },
  {
   "cell_type": "code",
   "execution_count": null,
   "metadata": {},
   "outputs": [],
   "source": [
    "spy=spy.reindex(all_days)\n",
    "spy"
   ]
  },
  {
   "cell_type": "code",
   "execution_count": null,
   "metadata": {},
   "outputs": [],
   "source": [
    "spy.fillna(method = 'bfill')"
   ]
  },
  {
   "cell_type": "code",
   "execution_count": null,
   "metadata": {},
   "outputs": [],
   "source": [
    "SPY = yf.download('SPY', nterval = '1wk')\n",
    "SPY"
   ]
  },
  {
   "cell_type": "markdown",
   "metadata": {},
   "source": [
    "## Cummaltive Ruturns, Drawdowns etc..."
   ]
  },
  {
   "cell_type": "code",
   "execution_count": 3,
   "metadata": {},
   "outputs": [
    {
     "name": "stdout",
     "output_type": "stream",
     "text": [
      "[*********************100%***********************]  1 of 1 completed\n"
     ]
    },
    {
     "data": {
      "text/html": [
       "<div>\n",
       "<style scoped>\n",
       "    .dataframe tbody tr th:only-of-type {\n",
       "        vertical-align: middle;\n",
       "    }\n",
       "\n",
       "    .dataframe tbody tr th {\n",
       "        vertical-align: top;\n",
       "    }\n",
       "\n",
       "    .dataframe thead th {\n",
       "        text-align: right;\n",
       "    }\n",
       "</style>\n",
       "<table border=\"1\" class=\"dataframe\">\n",
       "  <thead>\n",
       "    <tr style=\"text-align: right;\">\n",
       "      <th></th>\n",
       "      <th>Close</th>\n",
       "    </tr>\n",
       "    <tr>\n",
       "      <th>Date</th>\n",
       "      <th></th>\n",
       "    </tr>\n",
       "  </thead>\n",
       "  <tbody>\n",
       "    <tr>\n",
       "      <th>1980-12-12</th>\n",
       "      <td>0.128348</td>\n",
       "    </tr>\n",
       "    <tr>\n",
       "      <th>1980-12-15</th>\n",
       "      <td>0.121652</td>\n",
       "    </tr>\n",
       "    <tr>\n",
       "      <th>1980-12-16</th>\n",
       "      <td>0.112723</td>\n",
       "    </tr>\n",
       "    <tr>\n",
       "      <th>1980-12-17</th>\n",
       "      <td>0.115513</td>\n",
       "    </tr>\n",
       "    <tr>\n",
       "      <th>1980-12-18</th>\n",
       "      <td>0.118862</td>\n",
       "    </tr>\n",
       "    <tr>\n",
       "      <th>...</th>\n",
       "      <td>...</td>\n",
       "    </tr>\n",
       "    <tr>\n",
       "      <th>2022-10-21</th>\n",
       "      <td>147.270004</td>\n",
       "    </tr>\n",
       "    <tr>\n",
       "      <th>2022-10-24</th>\n",
       "      <td>149.449997</td>\n",
       "    </tr>\n",
       "    <tr>\n",
       "      <th>2022-10-25</th>\n",
       "      <td>152.339996</td>\n",
       "    </tr>\n",
       "    <tr>\n",
       "      <th>2022-10-26</th>\n",
       "      <td>149.350006</td>\n",
       "    </tr>\n",
       "    <tr>\n",
       "      <th>2022-10-27</th>\n",
       "      <td>144.800003</td>\n",
       "    </tr>\n",
       "  </tbody>\n",
       "</table>\n",
       "<p>10559 rows × 1 columns</p>\n",
       "</div>"
      ],
      "text/plain": [
       "                 Close\n",
       "Date                  \n",
       "1980-12-12    0.128348\n",
       "1980-12-15    0.121652\n",
       "1980-12-16    0.112723\n",
       "1980-12-17    0.115513\n",
       "1980-12-18    0.118862\n",
       "...                ...\n",
       "2022-10-21  147.270004\n",
       "2022-10-24  149.449997\n",
       "2022-10-25  152.339996\n",
       "2022-10-26  149.350006\n",
       "2022-10-27  144.800003\n",
       "\n",
       "[10559 rows x 1 columns]"
      ]
     },
     "execution_count": 3,
     "metadata": {},
     "output_type": "execute_result"
    }
   ],
   "source": [
    "apple = yf.download('AAPL')\n",
    "apple = apple.Close.to_frame()\n",
    "apple"
   ]
  },
  {
   "cell_type": "code",
   "execution_count": 4,
   "metadata": {},
   "outputs": [
    {
     "data": {
      "text/html": [
       "<div>\n",
       "<style scoped>\n",
       "    .dataframe tbody tr th:only-of-type {\n",
       "        vertical-align: middle;\n",
       "    }\n",
       "\n",
       "    .dataframe tbody tr th {\n",
       "        vertical-align: top;\n",
       "    }\n",
       "\n",
       "    .dataframe thead th {\n",
       "        text-align: right;\n",
       "    }\n",
       "</style>\n",
       "<table border=\"1\" class=\"dataframe\">\n",
       "  <thead>\n",
       "    <tr style=\"text-align: right;\">\n",
       "      <th></th>\n",
       "      <th>Close</th>\n",
       "      <th>d_returns</th>\n",
       "    </tr>\n",
       "    <tr>\n",
       "      <th>Date</th>\n",
       "      <th></th>\n",
       "      <th></th>\n",
       "    </tr>\n",
       "  </thead>\n",
       "  <tbody>\n",
       "    <tr>\n",
       "      <th>1980-12-12</th>\n",
       "      <td>0.128348</td>\n",
       "      <td>NaN</td>\n",
       "    </tr>\n",
       "    <tr>\n",
       "      <th>1980-12-15</th>\n",
       "      <td>0.121652</td>\n",
       "      <td>-0.053581</td>\n",
       "    </tr>\n",
       "    <tr>\n",
       "      <th>1980-12-16</th>\n",
       "      <td>0.112723</td>\n",
       "      <td>-0.076231</td>\n",
       "    </tr>\n",
       "    <tr>\n",
       "      <th>1980-12-17</th>\n",
       "      <td>0.115513</td>\n",
       "      <td>0.024450</td>\n",
       "    </tr>\n",
       "    <tr>\n",
       "      <th>1980-12-18</th>\n",
       "      <td>0.118862</td>\n",
       "      <td>0.028580</td>\n",
       "    </tr>\n",
       "    <tr>\n",
       "      <th>...</th>\n",
       "      <td>...</td>\n",
       "      <td>...</td>\n",
       "    </tr>\n",
       "    <tr>\n",
       "      <th>2022-10-21</th>\n",
       "      <td>147.270004</td>\n",
       "      <td>0.026699</td>\n",
       "    </tr>\n",
       "    <tr>\n",
       "      <th>2022-10-24</th>\n",
       "      <td>149.449997</td>\n",
       "      <td>0.014694</td>\n",
       "    </tr>\n",
       "    <tr>\n",
       "      <th>2022-10-25</th>\n",
       "      <td>152.339996</td>\n",
       "      <td>0.019153</td>\n",
       "    </tr>\n",
       "    <tr>\n",
       "      <th>2022-10-26</th>\n",
       "      <td>149.350006</td>\n",
       "      <td>-0.019822</td>\n",
       "    </tr>\n",
       "    <tr>\n",
       "      <th>2022-10-27</th>\n",
       "      <td>144.800003</td>\n",
       "      <td>-0.030939</td>\n",
       "    </tr>\n",
       "  </tbody>\n",
       "</table>\n",
       "<p>10559 rows × 2 columns</p>\n",
       "</div>"
      ],
      "text/plain": [
       "                 Close  d_returns\n",
       "Date                             \n",
       "1980-12-12    0.128348        NaN\n",
       "1980-12-15    0.121652  -0.053581\n",
       "1980-12-16    0.112723  -0.076231\n",
       "1980-12-17    0.115513   0.024450\n",
       "1980-12-18    0.118862   0.028580\n",
       "...                ...        ...\n",
       "2022-10-21  147.270004   0.026699\n",
       "2022-10-24  149.449997   0.014694\n",
       "2022-10-25  152.339996   0.019153\n",
       "2022-10-26  149.350006  -0.019822\n",
       "2022-10-27  144.800003  -0.030939\n",
       "\n",
       "[10559 rows x 2 columns]"
      ]
     },
     "execution_count": 4,
     "metadata": {},
     "output_type": "execute_result"
    }
   ],
   "source": [
    "apple['d_returns']= np.log(apple.div(apple.shift(1))) \n",
    "#d_returns - daily return\n",
    "apple"
   ]
  },
  {
   "cell_type": "code",
   "execution_count": 5,
   "metadata": {},
   "outputs": [
    {
     "data": {
      "text/html": [
       "<div>\n",
       "<style scoped>\n",
       "    .dataframe tbody tr th:only-of-type {\n",
       "        vertical-align: middle;\n",
       "    }\n",
       "\n",
       "    .dataframe tbody tr th {\n",
       "        vertical-align: top;\n",
       "    }\n",
       "\n",
       "    .dataframe thead th {\n",
       "        text-align: right;\n",
       "    }\n",
       "</style>\n",
       "<table border=\"1\" class=\"dataframe\">\n",
       "  <thead>\n",
       "    <tr style=\"text-align: right;\">\n",
       "      <th></th>\n",
       "      <th>Close</th>\n",
       "      <th>d_returns</th>\n",
       "    </tr>\n",
       "    <tr>\n",
       "      <th>Date</th>\n",
       "      <th></th>\n",
       "      <th></th>\n",
       "    </tr>\n",
       "  </thead>\n",
       "  <tbody>\n",
       "    <tr>\n",
       "      <th>1980-12-15</th>\n",
       "      <td>0.121652</td>\n",
       "      <td>-0.053581</td>\n",
       "    </tr>\n",
       "    <tr>\n",
       "      <th>1980-12-16</th>\n",
       "      <td>0.112723</td>\n",
       "      <td>-0.076231</td>\n",
       "    </tr>\n",
       "    <tr>\n",
       "      <th>1980-12-17</th>\n",
       "      <td>0.115513</td>\n",
       "      <td>0.024450</td>\n",
       "    </tr>\n",
       "    <tr>\n",
       "      <th>1980-12-18</th>\n",
       "      <td>0.118862</td>\n",
       "      <td>0.028580</td>\n",
       "    </tr>\n",
       "    <tr>\n",
       "      <th>1980-12-19</th>\n",
       "      <td>0.126116</td>\n",
       "      <td>0.059239</td>\n",
       "    </tr>\n",
       "    <tr>\n",
       "      <th>...</th>\n",
       "      <td>...</td>\n",
       "      <td>...</td>\n",
       "    </tr>\n",
       "    <tr>\n",
       "      <th>2022-10-21</th>\n",
       "      <td>147.270004</td>\n",
       "      <td>0.026699</td>\n",
       "    </tr>\n",
       "    <tr>\n",
       "      <th>2022-10-24</th>\n",
       "      <td>149.449997</td>\n",
       "      <td>0.014694</td>\n",
       "    </tr>\n",
       "    <tr>\n",
       "      <th>2022-10-25</th>\n",
       "      <td>152.339996</td>\n",
       "      <td>0.019153</td>\n",
       "    </tr>\n",
       "    <tr>\n",
       "      <th>2022-10-26</th>\n",
       "      <td>149.350006</td>\n",
       "      <td>-0.019822</td>\n",
       "    </tr>\n",
       "    <tr>\n",
       "      <th>2022-10-27</th>\n",
       "      <td>144.800003</td>\n",
       "      <td>-0.030939</td>\n",
       "    </tr>\n",
       "  </tbody>\n",
       "</table>\n",
       "<p>10558 rows × 2 columns</p>\n",
       "</div>"
      ],
      "text/plain": [
       "                 Close  d_returns\n",
       "Date                             \n",
       "1980-12-15    0.121652  -0.053581\n",
       "1980-12-16    0.112723  -0.076231\n",
       "1980-12-17    0.115513   0.024450\n",
       "1980-12-18    0.118862   0.028580\n",
       "1980-12-19    0.126116   0.059239\n",
       "...                ...        ...\n",
       "2022-10-21  147.270004   0.026699\n",
       "2022-10-24  149.449997   0.014694\n",
       "2022-10-25  152.339996   0.019153\n",
       "2022-10-26  149.350006  -0.019822\n",
       "2022-10-27  144.800003  -0.030939\n",
       "\n",
       "[10558 rows x 2 columns]"
      ]
     },
     "execution_count": 5,
     "metadata": {},
     "output_type": "execute_result"
    }
   ],
   "source": [
    "apple.dropna(inplace = True)\n",
    "apple"
   ]
  },
  {
   "cell_type": "code",
   "execution_count": 6,
   "metadata": {},
   "outputs": [
    {
     "data": {
      "text/plain": [
       "7.028363510547056"
      ]
     },
     "execution_count": 6,
     "metadata": {},
     "output_type": "execute_result"
    }
   ],
   "source": [
    "apple.d_returns.sum()\n",
    "#calculate the entire sum of all daily retruns "
   ]
  },
  {
   "cell_type": "code",
   "execution_count": 60,
   "metadata": {},
   "outputs": [
    {
     "data": {
      "text/plain": [
       "1109.873194998247"
      ]
     },
     "execution_count": 60,
     "metadata": {},
     "output_type": "execute_result"
    }
   ],
   "source": [
    "np.exp(apple.d_returns.sum()) #numpy expander"
   ]
  },
  {
   "cell_type": "code",
   "execution_count": 61,
   "metadata": {},
   "outputs": [
    {
     "data": {
      "text/html": [
       "<div>\n",
       "<style scoped>\n",
       "    .dataframe tbody tr th:only-of-type {\n",
       "        vertical-align: middle;\n",
       "    }\n",
       "\n",
       "    .dataframe tbody tr th {\n",
       "        vertical-align: top;\n",
       "    }\n",
       "\n",
       "    .dataframe thead th {\n",
       "        text-align: right;\n",
       "    }\n",
       "</style>\n",
       "<table border=\"1\" class=\"dataframe\">\n",
       "  <thead>\n",
       "    <tr style=\"text-align: right;\">\n",
       "      <th></th>\n",
       "      <th>Close</th>\n",
       "      <th>d_returns</th>\n",
       "      <th>cummreturns</th>\n",
       "    </tr>\n",
       "    <tr>\n",
       "      <th>Date</th>\n",
       "      <th></th>\n",
       "      <th></th>\n",
       "      <th></th>\n",
       "    </tr>\n",
       "  </thead>\n",
       "  <tbody>\n",
       "    <tr>\n",
       "      <th>1980-12-15</th>\n",
       "      <td>0.121652</td>\n",
       "      <td>-0.053581</td>\n",
       "      <td>0.947829</td>\n",
       "    </tr>\n",
       "    <tr>\n",
       "      <th>1980-12-16</th>\n",
       "      <td>0.112723</td>\n",
       "      <td>-0.076231</td>\n",
       "      <td>0.878261</td>\n",
       "    </tr>\n",
       "    <tr>\n",
       "      <th>1980-12-17</th>\n",
       "      <td>0.115513</td>\n",
       "      <td>0.024450</td>\n",
       "      <td>0.899998</td>\n",
       "    </tr>\n",
       "    <tr>\n",
       "      <th>1980-12-18</th>\n",
       "      <td>0.118862</td>\n",
       "      <td>0.028580</td>\n",
       "      <td>0.926092</td>\n",
       "    </tr>\n",
       "    <tr>\n",
       "      <th>1980-12-19</th>\n",
       "      <td>0.126116</td>\n",
       "      <td>0.059239</td>\n",
       "      <td>0.982610</td>\n",
       "    </tr>\n",
       "    <tr>\n",
       "      <th>...</th>\n",
       "      <td>...</td>\n",
       "      <td>...</td>\n",
       "      <td>...</td>\n",
       "    </tr>\n",
       "    <tr>\n",
       "      <th>2022-09-27</th>\n",
       "      <td>151.759995</td>\n",
       "      <td>0.006545</td>\n",
       "      <td>1182.410345</td>\n",
       "    </tr>\n",
       "    <tr>\n",
       "      <th>2022-09-28</th>\n",
       "      <td>149.839996</td>\n",
       "      <td>-0.012732</td>\n",
       "      <td>1167.451029</td>\n",
       "    </tr>\n",
       "    <tr>\n",
       "      <th>2022-09-29</th>\n",
       "      <td>142.479996</td>\n",
       "      <td>-0.050366</td>\n",
       "      <td>1110.106925</td>\n",
       "    </tr>\n",
       "    <tr>\n",
       "      <th>2022-09-30</th>\n",
       "      <td>138.199997</td>\n",
       "      <td>-0.030500</td>\n",
       "      <td>1076.760094</td>\n",
       "    </tr>\n",
       "    <tr>\n",
       "      <th>2022-10-03</th>\n",
       "      <td>142.449997</td>\n",
       "      <td>0.030289</td>\n",
       "      <td>1109.873195</td>\n",
       "    </tr>\n",
       "  </tbody>\n",
       "</table>\n",
       "<p>10540 rows × 3 columns</p>\n",
       "</div>"
      ],
      "text/plain": [
       "                 Close  d_returns  cummreturns\n",
       "Date                                          \n",
       "1980-12-15    0.121652  -0.053581     0.947829\n",
       "1980-12-16    0.112723  -0.076231     0.878261\n",
       "1980-12-17    0.115513   0.024450     0.899998\n",
       "1980-12-18    0.118862   0.028580     0.926092\n",
       "1980-12-19    0.126116   0.059239     0.982610\n",
       "...                ...        ...          ...\n",
       "2022-09-27  151.759995   0.006545  1182.410345\n",
       "2022-09-28  149.839996  -0.012732  1167.451029\n",
       "2022-09-29  142.479996  -0.050366  1110.106925\n",
       "2022-09-30  138.199997  -0.030500  1076.760094\n",
       "2022-10-03  142.449997   0.030289  1109.873195\n",
       "\n",
       "[10540 rows x 3 columns]"
      ]
     },
     "execution_count": 61,
     "metadata": {},
     "output_type": "execute_result"
    }
   ],
   "source": [
    "apple['cummreturns']= apple.d_returns.cumsum().apply(np.exp)\n",
    "apple"
   ]
  },
  {
   "cell_type": "code",
   "execution_count": 62,
   "metadata": {},
   "outputs": [
    {
     "data": {
      "image/png": "[encoded data removed]",
      "text/plain": [
       "<Figure size 864x576 with 1 Axes>"
      ]
     },
     "metadata": {
      "needs_background": "light"
     },
     "output_type": "display_data"
    }
   ],
   "source": [
    "apple.cummreturns.plot(figsize =(12,8), title = 'APPLe buy and hold', fontsize = 12)\n",
    "plt.show()"
   ]
  },
  {
   "cell_type": "code",
   "execution_count": 63,
   "metadata": {},
   "outputs": [
    {
     "data": {
      "text/plain": [
       "0.16764936094479768"
      ]
     },
     "execution_count": 63,
     "metadata": {},
     "output_type": "execute_result"
    }
   ],
   "source": [
    "apple.d_returns.mean()*252"
   ]
  },
  {
   "cell_type": "code",
   "execution_count": 64,
   "metadata": {},
   "outputs": [
    {
     "data": {
      "text/plain": [
       "0.4561252298544599"
      ]
     },
     "execution_count": 64,
     "metadata": {},
     "output_type": "execute_result"
    }
   ],
   "source": [
    "apple.d_returns.std()*np.sqrt(252)"
   ]
  },
  {
   "cell_type": "code",
   "execution_count": 65,
   "metadata": {},
   "outputs": [
    {
     "data": {
      "text/html": [
       "<div>\n",
       "<style scoped>\n",
       "    .dataframe tbody tr th:only-of-type {\n",
       "        vertical-align: middle;\n",
       "    }\n",
       "\n",
       "    .dataframe tbody tr th {\n",
       "        vertical-align: top;\n",
       "    }\n",
       "\n",
       "    .dataframe thead th {\n",
       "        text-align: right;\n",
       "    }\n",
       "</style>\n",
       "<table border=\"1\" class=\"dataframe\">\n",
       "  <thead>\n",
       "    <tr style=\"text-align: right;\">\n",
       "      <th></th>\n",
       "      <th>Close</th>\n",
       "      <th>d_returns</th>\n",
       "      <th>cummreturns</th>\n",
       "      <th>cummax</th>\n",
       "    </tr>\n",
       "    <tr>\n",
       "      <th>Date</th>\n",
       "      <th></th>\n",
       "      <th></th>\n",
       "      <th></th>\n",
       "      <th></th>\n",
       "    </tr>\n",
       "  </thead>\n",
       "  <tbody>\n",
       "    <tr>\n",
       "      <th>1980-12-15</th>\n",
       "      <td>0.121652</td>\n",
       "      <td>-0.053581</td>\n",
       "      <td>0.947829</td>\n",
       "      <td>0.947829</td>\n",
       "    </tr>\n",
       "    <tr>\n",
       "      <th>1980-12-16</th>\n",
       "      <td>0.112723</td>\n",
       "      <td>-0.076231</td>\n",
       "      <td>0.878261</td>\n",
       "      <td>0.947829</td>\n",
       "    </tr>\n",
       "    <tr>\n",
       "      <th>1980-12-17</th>\n",
       "      <td>0.115513</td>\n",
       "      <td>0.024450</td>\n",
       "      <td>0.899998</td>\n",
       "      <td>0.947829</td>\n",
       "    </tr>\n",
       "    <tr>\n",
       "      <th>1980-12-18</th>\n",
       "      <td>0.118862</td>\n",
       "      <td>0.028580</td>\n",
       "      <td>0.926092</td>\n",
       "      <td>0.947829</td>\n",
       "    </tr>\n",
       "    <tr>\n",
       "      <th>1980-12-19</th>\n",
       "      <td>0.126116</td>\n",
       "      <td>0.059239</td>\n",
       "      <td>0.982610</td>\n",
       "      <td>0.982610</td>\n",
       "    </tr>\n",
       "    <tr>\n",
       "      <th>...</th>\n",
       "      <td>...</td>\n",
       "      <td>...</td>\n",
       "      <td>...</td>\n",
       "      <td>...</td>\n",
       "    </tr>\n",
       "    <tr>\n",
       "      <th>2022-09-27</th>\n",
       "      <td>151.759995</td>\n",
       "      <td>0.006545</td>\n",
       "      <td>1182.410345</td>\n",
       "      <td>1418.097708</td>\n",
       "    </tr>\n",
       "    <tr>\n",
       "      <th>2022-09-28</th>\n",
       "      <td>149.839996</td>\n",
       "      <td>-0.012732</td>\n",
       "      <td>1167.451029</td>\n",
       "      <td>1418.097708</td>\n",
       "    </tr>\n",
       "    <tr>\n",
       "      <th>2022-09-29</th>\n",
       "      <td>142.479996</td>\n",
       "      <td>-0.050366</td>\n",
       "      <td>1110.106925</td>\n",
       "      <td>1418.097708</td>\n",
       "    </tr>\n",
       "    <tr>\n",
       "      <th>2022-09-30</th>\n",
       "      <td>138.199997</td>\n",
       "      <td>-0.030500</td>\n",
       "      <td>1076.760094</td>\n",
       "      <td>1418.097708</td>\n",
       "    </tr>\n",
       "    <tr>\n",
       "      <th>2022-10-03</th>\n",
       "      <td>142.449997</td>\n",
       "      <td>0.030289</td>\n",
       "      <td>1109.873195</td>\n",
       "      <td>1418.097708</td>\n",
       "    </tr>\n",
       "  </tbody>\n",
       "</table>\n",
       "<p>10540 rows × 4 columns</p>\n",
       "</div>"
      ],
      "text/plain": [
       "                 Close  d_returns  cummreturns       cummax\n",
       "Date                                                       \n",
       "1980-12-15    0.121652  -0.053581     0.947829     0.947829\n",
       "1980-12-16    0.112723  -0.076231     0.878261     0.947829\n",
       "1980-12-17    0.115513   0.024450     0.899998     0.947829\n",
       "1980-12-18    0.118862   0.028580     0.926092     0.947829\n",
       "1980-12-19    0.126116   0.059239     0.982610     0.982610\n",
       "...                ...        ...          ...          ...\n",
       "2022-09-27  151.759995   0.006545  1182.410345  1418.097708\n",
       "2022-09-28  149.839996  -0.012732  1167.451029  1418.097708\n",
       "2022-09-29  142.479996  -0.050366  1110.106925  1418.097708\n",
       "2022-09-30  138.199997  -0.030500  1076.760094  1418.097708\n",
       "2022-10-03  142.449997   0.030289  1109.873195  1418.097708\n",
       "\n",
       "[10540 rows x 4 columns]"
      ]
     },
     "execution_count": 65,
     "metadata": {},
     "output_type": "execute_result"
    }
   ],
   "source": [
    "#drawdowns - is a peak-to-trough decline during a specific period for an investment, trading account, or fund \n",
    "# is usually quoted as the percentage between the peak and the subsequent trough\n",
    "apple['cummax'] = apple.cummreturns.cummax() #cumulative maximum - совокупный максимум\n",
    "apple"
   ]
  },
  {
   "cell_type": "code",
   "execution_count": 66,
   "metadata": {},
   "outputs": [
    {
     "data": {
      "image/png": "[encoded data removed]",
      "text/plain": [
       "<Figure size 864x576 with 1 Axes>"
      ]
     },
     "metadata": {
      "needs_background": "light"
     },
     "output_type": "display_data"
    }
   ],
   "source": [
    "apple[['cummreturns', 'cummax']].plot(figsize=(12,8), title ='APPLe buy and hold+ cummax', fontsize =12)\n",
    "plt.show()"
   ]
  },
  {
   "cell_type": "code",
   "execution_count": 67,
   "metadata": {},
   "outputs": [
    {
     "data": {
      "text/html": [
       "<div>\n",
       "<style scoped>\n",
       "    .dataframe tbody tr th:only-of-type {\n",
       "        vertical-align: middle;\n",
       "    }\n",
       "\n",
       "    .dataframe tbody tr th {\n",
       "        vertical-align: top;\n",
       "    }\n",
       "\n",
       "    .dataframe thead th {\n",
       "        text-align: right;\n",
       "    }\n",
       "</style>\n",
       "<table border=\"1\" class=\"dataframe\">\n",
       "  <thead>\n",
       "    <tr style=\"text-align: right;\">\n",
       "      <th></th>\n",
       "      <th>Close</th>\n",
       "      <th>d_returns</th>\n",
       "      <th>cummreturns</th>\n",
       "      <th>cummax</th>\n",
       "      <th>drawdown</th>\n",
       "    </tr>\n",
       "    <tr>\n",
       "      <th>Date</th>\n",
       "      <th></th>\n",
       "      <th></th>\n",
       "      <th></th>\n",
       "      <th></th>\n",
       "      <th></th>\n",
       "    </tr>\n",
       "  </thead>\n",
       "  <tbody>\n",
       "    <tr>\n",
       "      <th>1980-12-15</th>\n",
       "      <td>0.121652</td>\n",
       "      <td>-0.053581</td>\n",
       "      <td>0.947829</td>\n",
       "      <td>0.947829</td>\n",
       "      <td>0.000000</td>\n",
       "    </tr>\n",
       "    <tr>\n",
       "      <th>1980-12-16</th>\n",
       "      <td>0.112723</td>\n",
       "      <td>-0.076231</td>\n",
       "      <td>0.878261</td>\n",
       "      <td>0.947829</td>\n",
       "      <td>0.069569</td>\n",
       "    </tr>\n",
       "    <tr>\n",
       "      <th>1980-12-17</th>\n",
       "      <td>0.115513</td>\n",
       "      <td>0.024450</td>\n",
       "      <td>0.899998</td>\n",
       "      <td>0.947829</td>\n",
       "      <td>0.047831</td>\n",
       "    </tr>\n",
       "    <tr>\n",
       "      <th>1980-12-18</th>\n",
       "      <td>0.118862</td>\n",
       "      <td>0.028580</td>\n",
       "      <td>0.926092</td>\n",
       "      <td>0.947829</td>\n",
       "      <td>0.021738</td>\n",
       "    </tr>\n",
       "    <tr>\n",
       "      <th>1980-12-19</th>\n",
       "      <td>0.126116</td>\n",
       "      <td>0.059239</td>\n",
       "      <td>0.982610</td>\n",
       "      <td>0.982610</td>\n",
       "      <td>0.000000</td>\n",
       "    </tr>\n",
       "    <tr>\n",
       "      <th>...</th>\n",
       "      <td>...</td>\n",
       "      <td>...</td>\n",
       "      <td>...</td>\n",
       "      <td>...</td>\n",
       "      <td>...</td>\n",
       "    </tr>\n",
       "    <tr>\n",
       "      <th>2022-09-27</th>\n",
       "      <td>151.759995</td>\n",
       "      <td>0.006545</td>\n",
       "      <td>1182.410345</td>\n",
       "      <td>1418.097708</td>\n",
       "      <td>235.687363</td>\n",
       "    </tr>\n",
       "    <tr>\n",
       "      <th>2022-09-28</th>\n",
       "      <td>149.839996</td>\n",
       "      <td>-0.012732</td>\n",
       "      <td>1167.451029</td>\n",
       "      <td>1418.097708</td>\n",
       "      <td>250.646679</td>\n",
       "    </tr>\n",
       "    <tr>\n",
       "      <th>2022-09-29</th>\n",
       "      <td>142.479996</td>\n",
       "      <td>-0.050366</td>\n",
       "      <td>1110.106925</td>\n",
       "      <td>1418.097708</td>\n",
       "      <td>307.990783</td>\n",
       "    </tr>\n",
       "    <tr>\n",
       "      <th>2022-09-30</th>\n",
       "      <td>138.199997</td>\n",
       "      <td>-0.030500</td>\n",
       "      <td>1076.760094</td>\n",
       "      <td>1418.097708</td>\n",
       "      <td>341.337613</td>\n",
       "    </tr>\n",
       "    <tr>\n",
       "      <th>2022-10-03</th>\n",
       "      <td>142.449997</td>\n",
       "      <td>0.030289</td>\n",
       "      <td>1109.873195</td>\n",
       "      <td>1418.097708</td>\n",
       "      <td>308.224513</td>\n",
       "    </tr>\n",
       "  </tbody>\n",
       "</table>\n",
       "<p>10540 rows × 5 columns</p>\n",
       "</div>"
      ],
      "text/plain": [
       "                 Close  d_returns  cummreturns       cummax    drawdown\n",
       "Date                                                                   \n",
       "1980-12-15    0.121652  -0.053581     0.947829     0.947829    0.000000\n",
       "1980-12-16    0.112723  -0.076231     0.878261     0.947829    0.069569\n",
       "1980-12-17    0.115513   0.024450     0.899998     0.947829    0.047831\n",
       "1980-12-18    0.118862   0.028580     0.926092     0.947829    0.021738\n",
       "1980-12-19    0.126116   0.059239     0.982610     0.982610    0.000000\n",
       "...                ...        ...          ...          ...         ...\n",
       "2022-09-27  151.759995   0.006545  1182.410345  1418.097708  235.687363\n",
       "2022-09-28  149.839996  -0.012732  1167.451029  1418.097708  250.646679\n",
       "2022-09-29  142.479996  -0.050366  1110.106925  1418.097708  307.990783\n",
       "2022-09-30  138.199997  -0.030500  1076.760094  1418.097708  341.337613\n",
       "2022-10-03  142.449997   0.030289  1109.873195  1418.097708  308.224513\n",
       "\n",
       "[10540 rows x 5 columns]"
      ]
     },
     "execution_count": 67,
     "metadata": {},
     "output_type": "execute_result"
    }
   ],
   "source": [
    "apple['drawdown'] = apple['cummax'] - apple['cummreturns']\n",
    "apple"
   ]
  },
  {
   "cell_type": "code",
   "execution_count": 68,
   "metadata": {},
   "outputs": [
    {
     "data": {
      "text/plain": [
       "Timestamp('2022-06-16 00:00:00')"
      ]
     },
     "execution_count": 68,
     "metadata": {},
     "output_type": "execute_result"
    }
   ],
   "source": [
    "apple.drawdown.max()\n",
    "apple.drawdown.idxmax()"
   ]
  },
  {
   "cell_type": "code",
   "execution_count": 69,
   "metadata": {},
   "outputs": [
    {
     "data": {
      "text/html": [
       "<div>\n",
       "<style scoped>\n",
       "    .dataframe tbody tr th:only-of-type {\n",
       "        vertical-align: middle;\n",
       "    }\n",
       "\n",
       "    .dataframe tbody tr th {\n",
       "        vertical-align: top;\n",
       "    }\n",
       "\n",
       "    .dataframe thead th {\n",
       "        text-align: right;\n",
       "    }\n",
       "</style>\n",
       "<table border=\"1\" class=\"dataframe\">\n",
       "  <thead>\n",
       "    <tr style=\"text-align: right;\">\n",
       "      <th></th>\n",
       "      <th>Close</th>\n",
       "      <th>d_returns</th>\n",
       "      <th>cummreturns</th>\n",
       "      <th>cummax</th>\n",
       "      <th>drawdown</th>\n",
       "    </tr>\n",
       "    <tr>\n",
       "      <th>Date</th>\n",
       "      <th></th>\n",
       "      <th></th>\n",
       "      <th></th>\n",
       "      <th></th>\n",
       "      <th></th>\n",
       "    </tr>\n",
       "  </thead>\n",
       "  <tbody>\n",
       "    <tr>\n",
       "      <th>2020-09-18</th>\n",
       "      <td>106.839996</td>\n",
       "      <td>-0.032234</td>\n",
       "      <td>832.424364</td>\n",
       "      <td>1045.438964</td>\n",
       "      <td>213.0146</td>\n",
       "    </tr>\n",
       "  </tbody>\n",
       "</table>\n",
       "</div>"
      ],
      "text/plain": [
       "                 Close  d_returns  cummreturns       cummax  drawdown\n",
       "Date                                                                 \n",
       "2020-09-18  106.839996  -0.032234   832.424364  1045.438964  213.0146"
      ]
     },
     "execution_count": 69,
     "metadata": {},
     "output_type": "execute_result"
    }
   ],
   "source": [
    "apple.loc[(apple.index =='2020-09-18')]"
   ]
  },
  {
   "cell_type": "code",
   "execution_count": 70,
   "metadata": {},
   "outputs": [
    {
     "data": {
      "text/plain": [
       "404.7589352637674"
      ]
     },
     "execution_count": 70,
     "metadata": {},
     "output_type": "execute_result"
    }
   ],
   "source": [
    "apple['drawdown'].max()"
   ]
  },
  {
   "cell_type": "code",
   "execution_count": 71,
   "metadata": {},
   "outputs": [
    {
     "data": {
      "text/plain": [
       "Timestamp('2022-06-16 00:00:00')"
      ]
     },
     "execution_count": 71,
     "metadata": {},
     "output_type": "execute_result"
    }
   ],
   "source": [
    "apple['drawdown'].idxmax()"
   ]
  },
  {
   "cell_type": "code",
   "execution_count": 72,
   "metadata": {},
   "outputs": [
    {
     "data": {
      "text/html": [
       "<div>\n",
       "<style scoped>\n",
       "    .dataframe tbody tr th:only-of-type {\n",
       "        vertical-align: middle;\n",
       "    }\n",
       "\n",
       "    .dataframe tbody tr th {\n",
       "        vertical-align: top;\n",
       "    }\n",
       "\n",
       "    .dataframe thead th {\n",
       "        text-align: right;\n",
       "    }\n",
       "</style>\n",
       "<table border=\"1\" class=\"dataframe\">\n",
       "  <thead>\n",
       "    <tr style=\"text-align: right;\">\n",
       "      <th></th>\n",
       "      <th>Close</th>\n",
       "      <th>d_returns</th>\n",
       "      <th>cummreturns</th>\n",
       "      <th>cummax</th>\n",
       "      <th>drawdown</th>\n",
       "    </tr>\n",
       "    <tr>\n",
       "      <th>Date</th>\n",
       "      <th></th>\n",
       "      <th></th>\n",
       "      <th></th>\n",
       "      <th></th>\n",
       "      <th></th>\n",
       "    </tr>\n",
       "  </thead>\n",
       "  <tbody>\n",
       "    <tr>\n",
       "      <th>1980-12-15</th>\n",
       "      <td>0.121652</td>\n",
       "      <td>-0.053581</td>\n",
       "      <td>0.947829</td>\n",
       "      <td>0.947829</td>\n",
       "      <td>0.000000</td>\n",
       "    </tr>\n",
       "    <tr>\n",
       "      <th>1980-12-16</th>\n",
       "      <td>0.112723</td>\n",
       "      <td>-0.076231</td>\n",
       "      <td>0.878261</td>\n",
       "      <td>0.947829</td>\n",
       "      <td>0.069569</td>\n",
       "    </tr>\n",
       "    <tr>\n",
       "      <th>1980-12-17</th>\n",
       "      <td>0.115513</td>\n",
       "      <td>0.024450</td>\n",
       "      <td>0.899998</td>\n",
       "      <td>0.947829</td>\n",
       "      <td>0.047831</td>\n",
       "    </tr>\n",
       "    <tr>\n",
       "      <th>1980-12-18</th>\n",
       "      <td>0.118862</td>\n",
       "      <td>0.028580</td>\n",
       "      <td>0.926092</td>\n",
       "      <td>0.947829</td>\n",
       "      <td>0.021738</td>\n",
       "    </tr>\n",
       "    <tr>\n",
       "      <th>1980-12-19</th>\n",
       "      <td>0.126116</td>\n",
       "      <td>0.059239</td>\n",
       "      <td>0.982610</td>\n",
       "      <td>0.982610</td>\n",
       "      <td>0.000000</td>\n",
       "    </tr>\n",
       "    <tr>\n",
       "      <th>...</th>\n",
       "      <td>...</td>\n",
       "      <td>...</td>\n",
       "      <td>...</td>\n",
       "      <td>...</td>\n",
       "      <td>...</td>\n",
       "    </tr>\n",
       "    <tr>\n",
       "      <th>1997-12-17</th>\n",
       "      <td>0.124442</td>\n",
       "      <td>-0.026549</td>\n",
       "      <td>0.969567</td>\n",
       "      <td>5.060882</td>\n",
       "      <td>4.091315</td>\n",
       "    </tr>\n",
       "    <tr>\n",
       "      <th>1997-12-18</th>\n",
       "      <td>0.123326</td>\n",
       "      <td>-0.009008</td>\n",
       "      <td>0.960872</td>\n",
       "      <td>5.060882</td>\n",
       "      <td>4.100010</td>\n",
       "    </tr>\n",
       "    <tr>\n",
       "      <th>1997-12-19</th>\n",
       "      <td>0.122210</td>\n",
       "      <td>-0.009090</td>\n",
       "      <td>0.952177</td>\n",
       "      <td>5.060882</td>\n",
       "      <td>4.108705</td>\n",
       "    </tr>\n",
       "    <tr>\n",
       "      <th>1997-12-22</th>\n",
       "      <td>0.118862</td>\n",
       "      <td>-0.027778</td>\n",
       "      <td>0.926092</td>\n",
       "      <td>5.060882</td>\n",
       "      <td>4.134790</td>\n",
       "    </tr>\n",
       "    <tr>\n",
       "      <th>1997-12-23</th>\n",
       "      <td>0.115513</td>\n",
       "      <td>-0.028580</td>\n",
       "      <td>0.899998</td>\n",
       "      <td>5.060882</td>\n",
       "      <td>4.160883</td>\n",
       "    </tr>\n",
       "  </tbody>\n",
       "</table>\n",
       "<p>4306 rows × 5 columns</p>\n",
       "</div>"
      ],
      "text/plain": [
       "               Close  d_returns  cummreturns    cummax  drawdown\n",
       "Date                                                            \n",
       "1980-12-15  0.121652  -0.053581     0.947829  0.947829  0.000000\n",
       "1980-12-16  0.112723  -0.076231     0.878261  0.947829  0.069569\n",
       "1980-12-17  0.115513   0.024450     0.899998  0.947829  0.047831\n",
       "1980-12-18  0.118862   0.028580     0.926092  0.947829  0.021738\n",
       "1980-12-19  0.126116   0.059239     0.982610  0.982610  0.000000\n",
       "...              ...        ...          ...       ...       ...\n",
       "1997-12-17  0.124442  -0.026549     0.969567  5.060882  4.091315\n",
       "1997-12-18  0.123326  -0.009008     0.960872  5.060882  4.100010\n",
       "1997-12-19  0.122210  -0.009090     0.952177  5.060882  4.108705\n",
       "1997-12-22  0.118862  -0.027778     0.926092  5.060882  4.134790\n",
       "1997-12-23  0.115513  -0.028580     0.899998  5.060882  4.160883\n",
       "\n",
       "[4306 rows x 5 columns]"
      ]
     },
     "execution_count": 72,
     "metadata": {},
     "output_type": "execute_result"
    }
   ],
   "source": [
    "apple.loc[(apple.index <= '1997-12-23')]"
   ]
  },
  {
   "cell_type": "markdown",
   "metadata": {},
   "source": [
    "## sma strategy"
   ]
  },
  {
   "cell_type": "code",
   "execution_count": 7,
   "metadata": {},
   "outputs": [],
   "source": [
    "data = apple.Close.loc[(apple.index >= '1991-01-01')]\n",
    "data= data.to_frame()"
   ]
  },
  {
   "cell_type": "code",
   "execution_count": 8,
   "metadata": {},
   "outputs": [],
   "source": [
    "sma_s = 50\n",
    "sma_l = 100\n",
    "data ['sma_s'] = data.Close.rolling(sma_s).mean()\n",
    "data ['sma_l'] = data.Close.rolling(sma_l).mean()"
   ]
  },
  {
   "cell_type": "code",
   "execution_count": 9,
   "metadata": {},
   "outputs": [
    {
     "data": {
      "text/plain": [
       "<matplotlib.axes._subplots.AxesSubplot at 0x6671b10>"
      ]
     },
     "execution_count": 9,
     "metadata": {},
     "output_type": "execute_result"
    },
    {
     "data": {
      "image/png": "[encoded data removed]",
      "text/plain": [
       "<Figure size 864x576 with 1 Axes>"
      ]
     },
     "metadata": {
      "needs_background": "light"
     },
     "output_type": "display_data"
    }
   ],
   "source": [
    "data.plot(figsize=(12,8), title= \"AAPL SMA{} | SMA{}\".format(sma_s, sma_l), fontsize = 12)"
   ]
  },
  {
   "cell_type": "code",
   "execution_count": 10,
   "metadata": {},
   "outputs": [
    {
     "data": {
      "text/plain": [
       "<matplotlib.axes._subplots.AxesSubplot at 0x6c7d5f0>"
      ]
     },
     "execution_count": 10,
     "metadata": {},
     "output_type": "execute_result"
    },
    {
     "data": {
      "image/png": "[encoded data removed]",
      "text/plain": [
       "<Figure size 864x576 with 1 Axes>"
      ]
     },
     "metadata": {
      "needs_background": "light"
     },
     "output_type": "display_data"
    }
   ],
   "source": [
    "data.loc['2017'].plot(figsize=(12,8), title= \"AAPL SMA{} | SMA{}\".format(sma_s, sma_l), fontsize = 12)"
   ]
  },
  {
   "cell_type": "code",
   "execution_count": 11,
   "metadata": {},
   "outputs": [
    {
     "data": {
      "text/html": [
       "<div>\n",
       "<style scoped>\n",
       "    .dataframe tbody tr th:only-of-type {\n",
       "        vertical-align: middle;\n",
       "    }\n",
       "\n",
       "    .dataframe tbody tr th {\n",
       "        vertical-align: top;\n",
       "    }\n",
       "\n",
       "    .dataframe thead th {\n",
       "        text-align: right;\n",
       "    }\n",
       "</style>\n",
       "<table border=\"1\" class=\"dataframe\">\n",
       "  <thead>\n",
       "    <tr style=\"text-align: right;\">\n",
       "      <th></th>\n",
       "      <th>Close</th>\n",
       "      <th>sma_s</th>\n",
       "      <th>sma_l</th>\n",
       "    </tr>\n",
       "    <tr>\n",
       "      <th>Date</th>\n",
       "      <th></th>\n",
       "      <th></th>\n",
       "      <th></th>\n",
       "    </tr>\n",
       "  </thead>\n",
       "  <tbody>\n",
       "    <tr>\n",
       "      <th>1991-05-23</th>\n",
       "      <td>0.402902</td>\n",
       "      <td>0.534420</td>\n",
       "      <td>0.513326</td>\n",
       "    </tr>\n",
       "    <tr>\n",
       "      <th>1991-05-24</th>\n",
       "      <td>0.409598</td>\n",
       "      <td>0.530960</td>\n",
       "      <td>0.513538</td>\n",
       "    </tr>\n",
       "    <tr>\n",
       "      <th>1991-05-28</th>\n",
       "      <td>0.410714</td>\n",
       "      <td>0.527344</td>\n",
       "      <td>0.513806</td>\n",
       "    </tr>\n",
       "    <tr>\n",
       "      <th>1991-05-29</th>\n",
       "      <td>0.419643</td>\n",
       "      <td>0.523638</td>\n",
       "      <td>0.514141</td>\n",
       "    </tr>\n",
       "    <tr>\n",
       "      <th>1991-05-30</th>\n",
       "      <td>0.425223</td>\n",
       "      <td>0.519732</td>\n",
       "      <td>0.514531</td>\n",
       "    </tr>\n",
       "    <tr>\n",
       "      <th>...</th>\n",
       "      <td>...</td>\n",
       "      <td>...</td>\n",
       "      <td>...</td>\n",
       "    </tr>\n",
       "    <tr>\n",
       "      <th>2022-10-21</th>\n",
       "      <td>147.270004</td>\n",
       "      <td>154.107000</td>\n",
       "      <td>151.208600</td>\n",
       "    </tr>\n",
       "    <tr>\n",
       "      <th>2022-10-24</th>\n",
       "      <td>149.449997</td>\n",
       "      <td>153.653999</td>\n",
       "      <td>151.216000</td>\n",
       "    </tr>\n",
       "    <tr>\n",
       "      <th>2022-10-25</th>\n",
       "      <td>152.339996</td>\n",
       "      <td>153.236999</td>\n",
       "      <td>151.227300</td>\n",
       "    </tr>\n",
       "    <tr>\n",
       "      <th>2022-10-26</th>\n",
       "      <td>149.350006</td>\n",
       "      <td>152.763399</td>\n",
       "      <td>151.267000</td>\n",
       "    </tr>\n",
       "    <tr>\n",
       "      <th>2022-10-27</th>\n",
       "      <td>144.800003</td>\n",
       "      <td>152.168399</td>\n",
       "      <td>151.253600</td>\n",
       "    </tr>\n",
       "  </tbody>\n",
       "</table>\n",
       "<p>7919 rows × 3 columns</p>\n",
       "</div>"
      ],
      "text/plain": [
       "                 Close       sma_s       sma_l\n",
       "Date                                          \n",
       "1991-05-23    0.402902    0.534420    0.513326\n",
       "1991-05-24    0.409598    0.530960    0.513538\n",
       "1991-05-28    0.410714    0.527344    0.513806\n",
       "1991-05-29    0.419643    0.523638    0.514141\n",
       "1991-05-30    0.425223    0.519732    0.514531\n",
       "...                ...         ...         ...\n",
       "2022-10-21  147.270004  154.107000  151.208600\n",
       "2022-10-24  149.449997  153.653999  151.216000\n",
       "2022-10-25  152.339996  153.236999  151.227300\n",
       "2022-10-26  149.350006  152.763399  151.267000\n",
       "2022-10-27  144.800003  152.168399  151.253600\n",
       "\n",
       "[7919 rows x 3 columns]"
      ]
     },
     "execution_count": 11,
     "metadata": {},
     "output_type": "execute_result"
    }
   ],
   "source": [
    "data.dropna(inplace= True)\n",
    "data"
   ]
  },
  {
   "cell_type": "code",
   "execution_count": 12,
   "metadata": {},
   "outputs": [
    {
     "data": {
      "text/html": [
       "<div>\n",
       "<style scoped>\n",
       "    .dataframe tbody tr th:only-of-type {\n",
       "        vertical-align: middle;\n",
       "    }\n",
       "\n",
       "    .dataframe tbody tr th {\n",
       "        vertical-align: top;\n",
       "    }\n",
       "\n",
       "    .dataframe thead th {\n",
       "        text-align: right;\n",
       "    }\n",
       "</style>\n",
       "<table border=\"1\" class=\"dataframe\">\n",
       "  <thead>\n",
       "    <tr style=\"text-align: right;\">\n",
       "      <th></th>\n",
       "      <th>Close</th>\n",
       "      <th>sma_s</th>\n",
       "      <th>sma_l</th>\n",
       "      <th>position</th>\n",
       "    </tr>\n",
       "    <tr>\n",
       "      <th>Date</th>\n",
       "      <th></th>\n",
       "      <th></th>\n",
       "      <th></th>\n",
       "      <th></th>\n",
       "    </tr>\n",
       "  </thead>\n",
       "  <tbody>\n",
       "    <tr>\n",
       "      <th>1991-05-23</th>\n",
       "      <td>0.402902</td>\n",
       "      <td>0.534420</td>\n",
       "      <td>0.513326</td>\n",
       "      <td>1</td>\n",
       "    </tr>\n",
       "    <tr>\n",
       "      <th>1991-05-24</th>\n",
       "      <td>0.409598</td>\n",
       "      <td>0.530960</td>\n",
       "      <td>0.513538</td>\n",
       "      <td>1</td>\n",
       "    </tr>\n",
       "    <tr>\n",
       "      <th>1991-05-28</th>\n",
       "      <td>0.410714</td>\n",
       "      <td>0.527344</td>\n",
       "      <td>0.513806</td>\n",
       "      <td>1</td>\n",
       "    </tr>\n",
       "    <tr>\n",
       "      <th>1991-05-29</th>\n",
       "      <td>0.419643</td>\n",
       "      <td>0.523638</td>\n",
       "      <td>0.514141</td>\n",
       "      <td>1</td>\n",
       "    </tr>\n",
       "    <tr>\n",
       "      <th>1991-05-30</th>\n",
       "      <td>0.425223</td>\n",
       "      <td>0.519732</td>\n",
       "      <td>0.514531</td>\n",
       "      <td>1</td>\n",
       "    </tr>\n",
       "    <tr>\n",
       "      <th>...</th>\n",
       "      <td>...</td>\n",
       "      <td>...</td>\n",
       "      <td>...</td>\n",
       "      <td>...</td>\n",
       "    </tr>\n",
       "    <tr>\n",
       "      <th>2022-10-21</th>\n",
       "      <td>147.270004</td>\n",
       "      <td>154.107000</td>\n",
       "      <td>151.208600</td>\n",
       "      <td>1</td>\n",
       "    </tr>\n",
       "    <tr>\n",
       "      <th>2022-10-24</th>\n",
       "      <td>149.449997</td>\n",
       "      <td>153.653999</td>\n",
       "      <td>151.216000</td>\n",
       "      <td>1</td>\n",
       "    </tr>\n",
       "    <tr>\n",
       "      <th>2022-10-25</th>\n",
       "      <td>152.339996</td>\n",
       "      <td>153.236999</td>\n",
       "      <td>151.227300</td>\n",
       "      <td>1</td>\n",
       "    </tr>\n",
       "    <tr>\n",
       "      <th>2022-10-26</th>\n",
       "      <td>149.350006</td>\n",
       "      <td>152.763399</td>\n",
       "      <td>151.267000</td>\n",
       "      <td>1</td>\n",
       "    </tr>\n",
       "    <tr>\n",
       "      <th>2022-10-27</th>\n",
       "      <td>144.800003</td>\n",
       "      <td>152.168399</td>\n",
       "      <td>151.253600</td>\n",
       "      <td>1</td>\n",
       "    </tr>\n",
       "  </tbody>\n",
       "</table>\n",
       "<p>7919 rows × 4 columns</p>\n",
       "</div>"
      ],
      "text/plain": [
       "                 Close       sma_s       sma_l  position\n",
       "Date                                                    \n",
       "1991-05-23    0.402902    0.534420    0.513326         1\n",
       "1991-05-24    0.409598    0.530960    0.513538         1\n",
       "1991-05-28    0.410714    0.527344    0.513806         1\n",
       "1991-05-29    0.419643    0.523638    0.514141         1\n",
       "1991-05-30    0.425223    0.519732    0.514531         1\n",
       "...                ...         ...         ...       ...\n",
       "2022-10-21  147.270004  154.107000  151.208600         1\n",
       "2022-10-24  149.449997  153.653999  151.216000         1\n",
       "2022-10-25  152.339996  153.236999  151.227300         1\n",
       "2022-10-26  149.350006  152.763399  151.267000         1\n",
       "2022-10-27  144.800003  152.168399  151.253600         1\n",
       "\n",
       "[7919 rows x 4 columns]"
      ]
     },
     "execution_count": 12,
     "metadata": {},
     "output_type": "execute_result"
    }
   ],
   "source": [
    "data['position']= np.where(data['sma_s']> data['sma_l'], 1, -1)\n",
    "data"
   ]
  },
  {
   "cell_type": "code",
   "execution_count": 13,
   "metadata": {},
   "outputs": [
    {
     "data": {
      "text/plain": [
       "<matplotlib.axes._subplots.AxesSubplot at 0x68a0c70>"
      ]
     },
     "execution_count": 13,
     "metadata": {},
     "output_type": "execute_result"
    },
    {
     "data": {
      "image/png": "[encoded data removed]",
      "text/plain": [
       "<Figure size 864x576 with 2 Axes>"
      ]
     },
     "metadata": {
      "needs_background": "light"
     },
     "output_type": "display_data"
    }
   ],
   "source": [
    "data.loc['2016', ['sma_s', 'sma_l', 'position']].plot(figsize=(12,8), title= \"AAPL SMA{} | SMA{}\".format(sma_s, sma_l), fontsize = 12, secondary_y= 'position')"
   ]
  },
  {
   "cell_type": "code",
   "execution_count": null,
   "metadata": {},
   "outputs": [],
   "source": [
    "#when drops to -1 - we went short as sma crosses, when up to 1 - we went long "
   ]
  },
  {
   "cell_type": "code",
   "execution_count": 3,
   "metadata": {},
   "outputs": [],
   "source": [
    "def test_strategy(stock, start, end, SMA):\n",
    "    df = yf.download(stock, start = start, end=end)\n",
    "    data = df.Close.to_frame()\n",
    "    data['returns'] = np.log(data.Close.div(data.Close.shift(1)))\n",
    "    data['SMA_S']= data.Close.rolling(int(SMA[0])).mean()\n",
    "    data['SMA_L']= data.Close.rolling(int(SMA[1])).mean()\n",
    "    data.dropna(inplace = True)\n",
    "    \n",
    "    data['position']= np.where(data['SMA_S']>data['SMA_L'], 1, -1)\n",
    "    data['strategy'] = data['returns']* data.position.shift(1)\n",
    "    data.dropna(inplace = True)\n",
    "    ret = np.exp(data['strategy'].sum())\n",
    "    std = data['strategy'].std()*np.sqrt(252)\n",
    "    \n",
    "    return ret, std"
   ]
  },
  {
   "cell_type": "code",
   "execution_count": 4,
   "metadata": {},
   "outputs": [
    {
     "name": "stdout",
     "output_type": "stream",
     "text": [
      "[*********************100%***********************]  1 of 1 completed\n"
     ]
    },
    {
     "data": {
      "text/plain": [
       "(3.8525959835121815, 0.1979888537300452)"
      ]
     },
     "execution_count": 4,
     "metadata": {},
     "output_type": "execute_result"
    }
   ],
   "source": [
    "test_strategy('SPY', '2000-01-01', '2021-01-01', (50, 200))"
   ]
  },
  {
   "cell_type": "code",
   "execution_count": 37,
   "metadata": {},
   "outputs": [],
   "source": [
    "class SMABacktester():\n",
    "    def __init__(self, symbol, SMA_S, SMA_L, start, end):\n",
    "        self.symbol= symbol\n",
    "        self.SMA_S = SMA_S\n",
    "        self.SMA_L= SMA_L\n",
    "        self.start = start \n",
    "        self.end = end \n",
    "        self.results = None \n",
    "        self.get_data()\n",
    "    \n",
    "    def get_data(self):\n",
    "        df = yf.download(self.symbol, start = self.start, end = self.end)\n",
    "        data= df.Close.to_frame()\n",
    "        data['returns'] = np.log(data.Close.div(data.Close.shift(1)))\n",
    "        data['SMA_S'] = data.Close.rolling(self.SMA_S).mean()\n",
    "        data['SMA_L'] = data.Close.rolling(self.SMA_L).mean()\n",
    "        data.dropna(inplace = True)\n",
    "        self.data2 = data \n",
    "        \n",
    "        return data \n",
    "    \n",
    "    def test_results(self):\n",
    "        data = self.data2.copy().dropna()\n",
    "        data['position'] = np.where(data[\"SMA_S\"]>data['SMA_L'], 1, -1)\n",
    "        data['strategy'] = data['returns']*data.position.shift(1)\n",
    "        data.dropna(inplace= True)\n",
    "        data['returnbh'] = data['returns'].cumsum().apply(np.exp)\n",
    "        data['returnsstrategy'] = data['strategy'].cumsum().apply(np.exp)\n",
    "        perf = data['returnsstrategy'].iloc[-1]\n",
    "        outperf = perf - data['returnbh'].iloc[-1]\n",
    "        self.results = data \n",
    "        \n",
    "        ret = np.exp(data['strategy'].sum())\n",
    "        std = data['strategy'].std()*np.sqrt(252)\n",
    "        \n",
    "        return round(perf, 6), round(outperf, 6)\n",
    "    \n",
    "    def plot_results(self):\n",
    "        if self.results is None:\n",
    "            print('Run the test please')\n",
    "        else: \n",
    "            title='{}| SMA_S = {} | SMA_L{}'.format(self.symbol, self.SMA_S, self.SMA_L)\n",
    "            self.results[['returnbh', 'returnsstrategy']].plot(title= title, figsize =(12,8))"
   ]
  },
  {
   "cell_type": "code",
   "execution_count": 38,
   "metadata": {
    "scrolled": false
   },
   "outputs": [
    {
     "name": "stdout",
     "output_type": "stream",
     "text": [
      "[*********************100%***********************]  1 of 1 completed\n"
     ]
    }
   ],
   "source": [
    "tester = SMABacktester('SPY', 50, 100, '2000-01-01', '2021-01-01')"
   ]
  },
  {
   "cell_type": "code",
   "execution_count": 39,
   "metadata": {},
   "outputs": [
    {
     "data": {
      "text/plain": [
       "(1.821442, -0.887833)"
      ]
     },
     "execution_count": 39,
     "metadata": {},
     "output_type": "execute_result"
    }
   ],
   "source": [
    "tester.test_results()"
   ]
  },
  {
   "cell_type": "code",
   "execution_count": 40,
   "metadata": {},
   "outputs": [
    {
     "data": {
      "image/png": "[encoded data removed]",
      "text/plain": [
       "<Figure size 864x576 with 1 Axes>"
      ]
     },
     "metadata": {
      "needs_background": "light"
     },
     "output_type": "display_data"
    }
   ],
   "source": [
    "tester.plot_results()"
   ]
  },
  {
   "cell_type": "code",
   "execution_count": null,
   "metadata": {},
   "outputs": [],
   "source": []
  },
  {
   "cell_type": "code",
   "execution_count": null,
   "metadata": {},
   "outputs": [],
   "source": []
  },
  {
   "cell_type": "code",
   "execution_count": null,
   "metadata": {},
   "outputs": [],
   "source": []
  },
  {
   "cell_type": "code",
   "execution_count": null,
   "metadata": {},
   "outputs": [],
   "source": []
  },
  {
   "cell_type": "code",
   "execution_count": null,
   "metadata": {},
   "outputs": [],
   "source": []
  }
 ],
 "metadata": {
  "kernelspec": {
   "display_name": "Python 3 (ipykernel)",
   "language": "python",
   "name": "python3"
  },
  "language_info": {
   "codemirror_mode": {
    "name": "ipython",
    "version": 3
   },
   "file_extension": ".py",
   "mimetype": "text/x-python",
   "name": "python",
   "nbconvert_exporter": "python",
   "pygments_lexer": "ipython3",
   "version": "3.9.13"
  }
 },
 "nbformat": 4,
 "nbformat_minor": 2
}
